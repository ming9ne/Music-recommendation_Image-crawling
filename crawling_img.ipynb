{
 "cells": [
  {
   "cell_type": "code",
   "execution_count": null,
   "id": "2ef5a9cb",
   "metadata": {},
   "outputs": [],
   "source": [
    "import os\n",
    "import sys\n",
    "import selenium\n",
    "from time import sleep\n",
    "from selenium import webdriver\n",
    "from bs4 import BeautifulSoup as soups\n",
    "\n",
    "\n",
    "def search_selenium(search_name, search_path):\n",
    "    search_url = \"https://www.google.com/search?q=\" + str(search_name) + \"&hl=ko&tbm=isch\"\n",
    "\n",
    "    browser = webdriver.Chrome(r'C:\\Users\\USER\\My_Python\\WebDriver\\chromedriver.exe')\n",
    "    browser.get(search_url)\n",
    "\n",
    "    last_height = browser.execute_script(\"return document.body.scrollHeight\")\n",
    "\n",
    "    while True:\n",
    "        browser.execute_script(\"window.scrollTo(0, document.body.scrollHeight);\")\n",
    "\n",
    "        sleep(1)\n",
    "\n",
    "        new_height = browser.execute_script(\"return document.body.scrollHeight\")\n",
    "        if new_height == last_height:\n",
    "            try:\n",
    "                browser.find_element_by_css_selector(\".mye4qd\").click()\n",
    "            except:\n",
    "                break\n",
    "        last_height = new_height\n",
    "\n",
    "    image_count = len(browser.find_elements_by_css_selector(\".rg_i.Q4LuWd\"))\n",
    "\n",
    "    print(\"로드된 이미지 개수 : \", image_count)\n",
    "\n",
    "    browser.implicitly_wait(2)\n",
    "\n",
    "    search_limit = int(input(\"원하는 이미지 수집 개수 : \"))\n",
    "    for i in range(search_limit):\n",
    "        image = browser.find_elements_by_css_selector(\".rg_i.Q4LuWd\")[i]\n",
    "        image.screenshot(search_path + '/' + str(i) + \".jpg\")\n",
    "\n",
    "    browser.close()\n",
    "\n",
    "\n",
    "search_name = input(\"검색하고 싶은 키워드 : \")\n",
    "crawling_path = input(\"저장할 폴더명 입력 : \")\n",
    "search_path = \"./crawling_img/\" + crawling_path\n",
    "try:\n",
    "    # 중복되는 폴더 명이 없다면 생성\n",
    "    if not os.path.exists(search_path):\n",
    "        os.makedirs(search_path)\n",
    "    # 중복된다면 문구 출력 후 프로그램 종료\n",
    "    else:\n",
    "        print('이전에 같은 [검색어, 이미지 수]로 다운로드한 폴더가 존재합니다.')\n",
    "        sys.exit(0)\n",
    "except OSError:\n",
    "    print('os error')\n",
    "    sys.exit(0)\n",
    "\n",
    "search_selenium(search_name, search_path)"
   ]
  }
 ],
 "metadata": {
  "kernelspec": {
   "display_name": "kim",
   "language": "python",
   "name": "python3"
  },
  "language_info": {
   "codemirror_mode": {
    "name": "ipython",
    "version": 3
   },
   "file_extension": ".py",
   "mimetype": "text/x-python",
   "name": "python",
   "nbconvert_exporter": "python",
   "pygments_lexer": "ipython3",
   "version": "3.8.13 (default, Mar 28 2022, 06:59:08) [MSC v.1916 64 bit (AMD64)]"
  },
  "vscode": {
   "interpreter": {
    "hash": "48e6c10574b016419da7cf0938cab56320f4e22ca3abfd59c9596678fe82933a"
   }
  }
 },
 "nbformat": 4,
 "nbformat_minor": 5
}
