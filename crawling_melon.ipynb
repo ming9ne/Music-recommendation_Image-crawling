{
 "cells": [
  {
   "cell_type": "code",
   "execution_count": 2,
   "id": "8daf0efe",
   "metadata": {},
   "outputs": [],
   "source": [
    "#frm > div > table > tbody > tr:nth-child(1) > td:nth-child(4) > div > a  => 멜론 html 형식\n",
    "#frm > div > table > tbody > tr:nth-child(2) > td:nth-child(4) > div > a\n",
    "\n",
    "#frm > div > table > tbody > tr:nth-child({}) > td:nth-child(5) > div > div > div.ellipsis.rank01 > span > a => 노래 제목\n",
    "#frm > div > table > tbody > tr:nth-child({}) > td:nth-child(5) > div > div > div.ellipsis.rank02 > a  => 가수명"
   ]
  },
  {
   "cell_type": "code",
   "execution_count": 8,
   "id": "5f835351",
   "metadata": {},
   "outputs": [
    {
     "name": "stdout",
     "output_type": "stream",
     "text": [
      "3.141.0\n"
     ]
    }
   ],
   "source": [
    "import selenium\n",
    "print(selenium.__version__)"
   ]
  },
  {
   "cell_type": "code",
   "execution_count": 9,
   "id": "ce8925be",
   "metadata": {},
   "outputs": [],
   "source": [
    "import pandas as pd \n",
    "import numpy as np \n",
    "import re\n",
    "import time\n",
    "from tqdm import tqdm"
   ]
  },
  {
   "cell_type": "code",
   "execution_count": 93,
   "id": "737f2421",
   "metadata": {},
   "outputs": [],
   "source": [
    "from selenium import webdriver\n",
    "driver = webdriver.Chrome(r'C:\\Users\\USER\\My_Python\\WebDriver\\chromedriver.exe') #chromedriver 실행"
   ]
  },
  {
   "cell_type": "code",
   "execution_count": 105,
   "id": "6820ae86",
   "metadata": {},
   "outputs": [],
   "source": [
    "def get_song_id(url): #크롤링 함수(멜론 크롤링)\n",
    "    driver.get(url)\n",
    "    time.sleep(0.5)\n",
    "    song_ids = []\n",
    "    for i in tqdm(range(1,51)): #멜론사이트 #태그 곡 50개씩 추출\n",
    "        try:\n",
    "            driver.find_element_by_css_selector('#frm > div > table > tbody > tr:nth-child({}) > td:nth-child(4) > div > a'.format(i)).click() #멜론 사이트 html 코드 추출\n",
    "            time.sleep(1)\n",
    "            a = driver.current_url  # 현재 주소값 저장 \n",
    "            song_id = re.search('=(.+)',a).groups()[0]   #주소 값에서 추가 되는 항목만 따로 저장 => id 값만 저장(멜론 사이트 특징)\n",
    "            song_ids.append(song_id)\n",
    "            driver.back()\n",
    "            time.sleep(0.5)\n",
    "        except:\n",
    "            pass\n",
    "    return song_ids #song_ids 리스트 값 반환(곡 id들)\n"
   ]
  },
  {
   "cell_type": "code",
   "execution_count": 92,
   "id": "44466285",
   "metadata": {},
   "outputs": [],
   "source": [
    "def get_artist_id(url): #크롤링 함수(멜론 크롤링)\n",
    "    driver.get(url)\n",
    "    time.sleep(0.5)\n",
    "    artist_ids = []\n",
    "    for i in tqdm(range(1,51)): #멜론사이트 #태그 곡 50개씩 추출\n",
    "        try:\n",
    "            artist_id = driver.find_element_by_css_selector('#frm > div > table > tbody > tr:nth-child({}) > td:nth-child(5) > div > div > div.ellipsis.rank02 > a'.format(i)).text #멜론 사이트 html 코드 추출\n",
    "            time.sleep(1)\n",
    "            artist_ids.append(artist_id)\n",
    "            time.sleep(0.5)\n",
    "        except:\n",
    "            pass\n",
    "    return artist_ids #song_ids 리스트 값 반환(곡 id들)\n"
   ]
  },
  {
   "cell_type": "code",
   "execution_count": 101,
   "id": "2501ad31",
   "metadata": {},
   "outputs": [],
   "source": [
    "def get_song_name(url): #크롤링 함수(멜론 크롤링)\n",
    "    driver.get(url)\n",
    "    time.sleep(0.5)\n",
    "    song_names = []\n",
    "    for i in tqdm(range(1,51)): #멜론사이트 #태그 곡 50개씩 추출\n",
    "        try:\n",
    "            song_name = driver.find_element_by_css_selector('#frm > div > table > tbody > tr:nth-child({}) > td:nth-child(5) > div > div > div.ellipsis.rank01 > span > a'.format(i)).text #멜론 사이트 html 코드 추출\n",
    "            time.sleep(1)\n",
    "            song_names.append(song_name)\n",
    "            time.sleep(0.5)\n",
    "        except:\n",
    "            pass\n",
    "    return song_names #song_ids 리스트 값 반환(곡 id들)"
   ]
  },
  {
   "cell_type": "code",
   "execution_count": 94,
   "id": "7c1e2bdc",
   "metadata": {},
   "outputs": [
    {
     "name": "stderr",
     "output_type": "stream",
     "text": [
      "100%|██████████| 50/50 [02:31<00:00,  3.03s/it]\n"
     ]
    }
   ],
   "source": [
    "happy1 = get_song_name('https://www.melon.com/mymusic/dj/mymusicdjplaylistview_inform.htm?plylstSeq=501362801')"
   ]
  },
  {
   "cell_type": "code",
   "execution_count": 96,
   "id": "8e7606aa",
   "metadata": {},
   "outputs": [
    {
     "name": "stdout",
     "output_type": "stream",
     "text": [
      "['Underneath The Tree', 'All I Want for Christmas Is You', 'Mistletoe', 'Last Christmas', 'Thank You Note', 'Kiss You This Christmas', 'Jingle Bell Rock', 'Let It Snow! (10th Anniversary)', 'Oh Santa! (Feat. Ariana Grande, Jennifer Hudson)', \"Kiss Me It's Christmas (Feat. Ne-Yo)\", 'Take Me Home For Christmas', 'Christmas Gift (Feat. Ashley Alisha, Sonny Zero)', 'wishlist', 'Santa Tell Me', 'Last Call', 'Last Christmas', 'All I Want For Christmas Is You', 'Secret Santa', \"Daydreamin'\", 'My Only Wish (This Year)', 'Think of Christmas', 'Christmases When You Were Mine', 'Wit It This Christmas', 'Santa, Can’t You Hear Me', 'Let It Snow', 'Merry Christmas', 'A Hand For Mrs. Claus', 'Have Yourself A Merry Little Christmas', 'Jingle Bell Rock (징글 벨 락) (2016 Remastered Ver.)', 'Marry Christmas', 'Snow In California', 'Christmas Got Me Blue', 'Cozy With Me', 'in case you miss me', 'How Long Will I Love You', 'Thank You Note', 'This Christmas', 'This Christmas', 'It Was A… (Masked Christmas)', \"I'll Be Home\", 'Some Things Never Change (From \"Frozen 2\"/Soundtrack Version)', 'Merry Christmas, Happy Holidays', 'Mr Right', 'All I Want For Christmas Is You (SuperFestive!)', \"Santa Claus Is Comin' to Town\", 'Let It Snow', 'Marvin Gaye (Feat. Meghan Trainor)', \"I'm Yours\", 'Christmas Tree Farm', 'When Christmas Comes (Album Version)']\n"
     ]
    }
   ],
   "source": [
    "print(happy1)"
   ]
  },
  {
   "cell_type": "code",
   "execution_count": 102,
   "id": "fa6db0db",
   "metadata": {},
   "outputs": [
    {
     "name": "stderr",
     "output_type": "stream",
     "text": [
      "100%|██████████| 50/50 [02:31<00:00,  3.03s/it]\n"
     ]
    }
   ],
   "source": [
    "happy2 = get_artist_id('https://www.melon.com/mymusic/dj/mymusicdjplaylistview_inform.htm?plylstSeq=501362801')"
   ]
  },
  {
   "cell_type": "code",
   "execution_count": 121,
   "id": "d9d3cec3",
   "metadata": {},
   "outputs": [
    {
     "name": "stdout",
     "output_type": "stream",
     "text": [
      "['Kelly Clarkson', 'Mariah Carey', 'Justin Bieber', 'Taylor Swift', 'salem ilese', \"Why Don't We\", 'The Vamps', 'Michael Buble', 'Mariah Carey', 'Leona Lewis', 'Dan + Shay', '뎁트', 'Alaina Castillo', 'Ariana Grande', 'Hudson Thames', 'WHAM!', 'New Hope Club', 'salem ilese', 'Ariana Grande', 'Britney Spears', 'Anne-Marie', 'Taylor Swift', 'Ariana Grande', 'Kelly Clarkson', 'Tori Kelly', 'Ed Sheeran', 'Idina Menzel', 'Sam Smith', 'Bobby Vee', 'salem ilese', 'Ariana Grande', 'Meghan Trainor', 'kenzie', 'John K', 'Jon Boden', 'salem ilese', 'Pink Sweat$', 'Tori Kelly', 'Jimmy Fallon', 'Meghan Trainor', 'Kristen Bell', 'Pentatonix', 'Leona Lewis', 'Justin Bieber', 'Mariah Carey', 'Tori Kelly', 'Charlie Puth', 'Jason Mraz', 'Taylor Swift', 'Mariah Carey']\n"
     ]
    }
   ],
   "source": [
    "print(happy2)"
   ]
  },
  {
   "cell_type": "code",
   "execution_count": 106,
   "id": "7b85b41c",
   "metadata": {},
   "outputs": [
    {
     "name": "stderr",
     "output_type": "stream",
     "text": [
      "100%|██████████| 50/50 [03:08<00:00,  3.78s/it]\n"
     ]
    }
   ],
   "source": [
    "happy3 = get_song_id('https://www.melon.com/mymusic/dj/mymusicdjplaylistview_inform.htm?plylstSeq=501362801')  #'행복' 관련된 노래들 저장"
   ]
  },
  {
   "cell_type": "code",
   "execution_count": 107,
   "id": "d32b83bd",
   "metadata": {},
   "outputs": [
    {
     "name": "stdout",
     "output_type": "stream",
     "text": [
      "['4322520', '14776', '3592400', '3062049', '35769165', '30751045', '34534710', '34038935', '33116142', '34165587', '33048103', '34365725', '33093062', '5475060', '106783710', '32156032', '31493996', '35769164', '4225822', '330407', '33048662', '3062050', '7985052', '34097020', '33018858', '34363553', '32105270', '5497433', '30775978', '33130221', '4365844', '33027699', '33084529', '33620400', '31987662', '34389882', '32223026', '34180596', '34378075', '7936957', '32180584', '30121291', '4344779', '3592404', '15247', '33025524', '8037844', '1860268', '32236965', '3626513']\n"
     ]
    }
   ],
   "source": [
    "print(happy3)"
   ]
  },
  {
   "cell_type": "code",
   "execution_count": 108,
   "id": "a35252c6",
   "metadata": {},
   "outputs": [
    {
     "name": "stderr",
     "output_type": "stream",
     "text": [
      "100%|██████████| 50/50 [02:31<00:00,  3.03s/it]\n"
     ]
    }
   ],
   "source": [
    "sad1 = get_song_name('https://www.melon.com/mymusic/dj/mymusicdjplaylistview_inform.htm?plylstSeq=507521599')  #'슬픔' 관련된 노래들 저장"
   ]
  },
  {
   "cell_type": "code",
   "execution_count": 109,
   "id": "60e62b40",
   "metadata": {},
   "outputs": [
    {
     "name": "stdout",
     "output_type": "stream",
     "text": [
      "['I Miss You', '어른', '잊지 말아요', '첫눈처럼 너에게 가겠다', '첫 눈', '마지막 너의 인사', '기억해 줘요', '눈의 꽃', '이 사랑', '들리나요...', 'Beautiful', 'All With You', '그대란 정원', 'I Love You Boy', '내 맘을 볼 수 있나요', '사랑하게 될 줄 알았어', '너에게 가는 이 길 위에서 (너.이.길)', '너였다면', 'Who Are You', '둘만의 세상으로 가', '너를 사랑하고 있어', '그대라는 시', '아프다', '잘 지내요', '사랑의 시작은 고백에서부터', '기억해줘요 내 모든 날과 그때를', '소원', '아직도 좋아해', '그리워 그리워서 (이영 Ver.)', '이별후회', '너의 모든 순간', '응급실', '마음을 드려요', 'Goodbye', '안녕', '서로의 눈물이 되어', '바람꽃', '빛이 되어줄게', '사랑해요', '어느 날 우리', 'My Way', '달에 지다', '자꾸 더 보고싶은 사람', 'With You', '함께 발을 맞춰 거닐던', '소리', 'U', '나를 잊지말아요', '그림자', '아직 너의 시간에 살아']\n"
     ]
    }
   ],
   "source": [
    "print(sad1)"
   ]
  },
  {
   "cell_type": "code",
   "execution_count": 110,
   "id": "e8f3ab8b",
   "metadata": {},
   "outputs": [
    {
     "name": "stderr",
     "output_type": "stream",
     "text": [
      "100%|██████████| 50/50 [02:31<00:00,  3.03s/it]\n"
     ]
    }
   ],
   "source": [
    "sad2 = get_artist_id('https://www.melon.com/mymusic/dj/mymusicdjplaylistview_inform.htm?plylstSeq=507521599')  #'슬픔' 관련된 노래들 저장"
   ]
  },
  {
   "cell_type": "code",
   "execution_count": 111,
   "id": "9bd731e5",
   "metadata": {},
   "outputs": [
    {
     "name": "stdout",
     "output_type": "stream",
     "text": [
      "['소유 (SOYOU)', 'Sondia', '백지영', '에일리(Ailee)', '정준일', '헤이즈 (Heize)', '다비치', '박효신', '다비치', '태연 (TAEYEON)', 'Crush', '태연 (TAEYEON)', '정은지', '수지 (Suzy)', '헤이즈 (Heize)', '전미도', '백현 (BAEKHYUN)', '정승환', '샘김 (Sam Kim)', 'Crush', '백현 (BAEKHYUN)', '태연 (TAEYEON)', '지코 (ZICO)', '정승환', '김범수', '거미', '어반자카파', '양요섭', '황치열', '김나영', '성시경', 'izi', '아이유', '웬디 (WENDY)', '폴킴', '효린', '이선희', '윤하 (YOUNHA)', '김범수', '김필', '이수 (엠씨더맥스)', '베이지', '마마무 (Mamamoo)', '린', '시적화자', '이수현', '백현 (BAEKHYUN)', '수지 (Suzy)', '휘인 (Whee In)', '이수현']\n"
     ]
    }
   ],
   "source": [
    "print(sad2)"
   ]
  },
  {
   "cell_type": "code",
   "execution_count": 112,
   "id": "36cae6d8",
   "metadata": {},
   "outputs": [
    {
     "name": "stderr",
     "output_type": "stream",
     "text": [
      "100%|██████████| 50/50 [03:38<00:00,  4.37s/it]\n"
     ]
    }
   ],
   "source": [
    "sad3 = get_song_id('https://www.melon.com/mymusic/dj/mymusicdjplaylistview_inform.htm?plylstSeq=507521599')  #'슬픔' 관련된 노래들 저장"
   ]
  },
  {
   "cell_type": "code",
   "execution_count": 113,
   "id": "07ce6541",
   "metadata": {},
   "outputs": [
    {
     "name": "stdout",
     "output_type": "stream",
     "text": [
      "['30177818', '30985406', '2319548', '30190630', '30178900', '34907218', '35044103', '623902', '8071102', '1928055', '30157753', '9645607', '30273713', '30664017', '31952592', '32614125', '32421335', '8203900', '30169383', '32364000', '32298623', '31938460', '5731941', '31299371', '5709750', '31967064', '30191370', '34520264', '30041152', '34437341', '4446485', '686651', '32378104', '31403263', '31984204', '30193645', '30153027', '32082258', '8298424', '33013550', '30721801', '2539090', '32335560', '8109957', '32544376', '31213910', '33521625', '4105693', '30660684', '32769272']\n"
     ]
    }
   ],
   "source": [
    "print(sad3)"
   ]
  },
  {
   "cell_type": "code",
   "execution_count": 122,
   "id": "dbff79ca",
   "metadata": {},
   "outputs": [],
   "source": [
    "df_h = pd.DataFrame({'노래 제목':happy1, '가수명': happy2, 'song_id': happy3})\n",
    "df_h.to_csv('행복한 노래.csv')"
   ]
  },
  {
   "cell_type": "code",
   "execution_count": 123,
   "id": "615e00ac",
   "metadata": {},
   "outputs": [],
   "source": [
    "df_h = pd.DataFrame({'노래 제목':sad1, '가수명': sad2, 'song_id': sad3})\n",
    "df_h.to_csv('슬픈 노래.csv')"
   ]
  }
 ],
 "metadata": {
  "kernelspec": {
   "display_name": "kim",
   "language": "python",
   "name": "python3"
  },
  "language_info": {
   "codemirror_mode": {
    "name": "ipython",
    "version": 3
   },
   "file_extension": ".py",
   "mimetype": "text/x-python",
   "name": "python",
   "nbconvert_exporter": "python",
   "pygments_lexer": "ipython3",
   "version": "3.8.13 (default, Mar 28 2022, 06:59:08) [MSC v.1916 64 bit (AMD64)]"
  },
  "vscode": {
   "interpreter": {
    "hash": "48e6c10574b016419da7cf0938cab56320f4e22ca3abfd59c9596678fe82933a"
   }
  }
 },
 "nbformat": 4,
 "nbformat_minor": 5
}
